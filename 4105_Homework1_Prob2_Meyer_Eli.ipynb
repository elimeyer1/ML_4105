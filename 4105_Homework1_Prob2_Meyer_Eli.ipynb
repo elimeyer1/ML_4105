{
  "nbformat": 4,
  "nbformat_minor": 0,
  "metadata": {
    "colab": {
      "provenance": [],
      "mount_file_id": "1707HDLAWPodkrGc12-c_5rVbetlZr50P",
      "authorship_tag": "ABX9TyNkMYEv2N5PpAFlRweDVsqj",
      "include_colab_link": true
    },
    "kernelspec": {
      "name": "python3",
      "display_name": "Python 3"
    },
    "language_info": {
      "name": "python"
    }
  },
  "cells": [
    {
      "cell_type": "markdown",
      "metadata": {
        "id": "view-in-github",
        "colab_type": "text"
      },
      "source": [
        "<a href=\"https://colab.research.google.com/github/elimeyer1/ML_4105/blob/main/4105_Homework1_Prob2_Meyer_Eli.ipynb\" target=\"_parent\"><img src=\"https://colab.research.google.com/assets/colab-badge.svg\" alt=\"Open In Colab\"/></a>"
      ]
    },
    {
      "cell_type": "code",
      "source": [
        "import numpy as np\n",
        "import pandas as pd\n",
        "import matplotlib.pyplot as plt\n",
        "from google.colab import drive\n",
        "drive.mount('/content/drive')\n"
      ],
      "metadata": {
        "colab": {
          "base_uri": "https://localhost:8080/"
        },
        "id": "iGxEnqkyBzpZ",
        "outputId": "482cbc29-6851-4d0e-a8ab-e146350facb8"
      },
      "execution_count": null,
      "outputs": [
        {
          "output_type": "stream",
          "name": "stdout",
          "text": [
            "Drive already mounted at /content/drive; to attempt to forcibly remount, call drive.mount(\"/content/drive\", force_remount=True).\n"
          ]
        }
      ]
    },
    {
      "cell_type": "code",
      "source": [
        "url = '/content/drive/MyDrive/4105/D3.csv'\n",
        "\n",
        "df = pd.read_csv(url)\n",
        "\n",
        "print(df.head())"
      ],
      "metadata": {
        "colab": {
          "base_uri": "https://localhost:8080/"
        },
        "id": "bQBOWXjGCHXb",
        "outputId": "1fe6dfa7-ed4d-4823-bbba-56dc4edc91ae"
      },
      "execution_count": null,
      "outputs": [
        {
          "output_type": "stream",
          "name": "stdout",
          "text": [
            "         X1        X2        X3         Y\n",
            "0  0.000000  3.440000  0.440000  4.387545\n",
            "1  0.040404  0.134949  0.888485  2.679650\n",
            "2  0.080808  0.829899  1.336970  2.968490\n",
            "3  0.121212  1.524848  1.785455  3.254065\n",
            "4  0.161616  2.219798  2.233939  3.536375\n"
          ]
        }
      ]
    },
    {
      "cell_type": "code",
      "source": [
        "X = df.values[:, 0:3]  # get all input values in a 3 column arrray\n",
        "y = df.values[:, -1]  # get output values from second column -- Y is the list here\n",
        "m = len(y)  # Number of input  examples\n",
        "n = len(X)  #\n",
        "m"
      ],
      "metadata": {
        "colab": {
          "base_uri": "https://localhost:8080/"
        },
        "id": "3CMkfzEPCLEW",
        "outputId": "dcefc567-f40c-423b-f71f-efc8de2c7b80"
      },
      "execution_count": null,
      "outputs": [
        {
          "output_type": "execute_result",
          "data": {
            "text/plain": [
              "100"
            ]
          },
          "metadata": {},
          "execution_count": 98
        }
      ]
    },
    {
      "cell_type": "code",
      "source": [
        "## Created an array with the length of the input\n",
        "## The inputs were then horizontally stacked nexted to that array of ones\n",
        "\n",
        "X0 = np.ones((m,1))\n",
        "X1 = X[:,0].reshape(m,1)\n",
        "X2 = X[:,1].reshape(m,1)\n",
        "X3 = X[:,2].reshape(m,1)\n",
        "X = np.hstack((X0, X1, X2, X3))\n",
        "X[:5]"
      ],
      "metadata": {
        "colab": {
          "base_uri": "https://localhost:8080/"
        },
        "id": "rt7HzTBEaDYi",
        "outputId": "3f4fb9a1-222f-4d88-f88a-9b4d0cd5d535"
      },
      "execution_count": null,
      "outputs": [
        {
          "output_type": "execute_result",
          "data": {
            "text/plain": [
              "array([[1.        , 0.        , 3.44      , 0.44      ],\n",
              "       [1.        , 0.04040404, 0.1349495 , 0.88848485],\n",
              "       [1.        , 0.08080808, 0.82989899, 1.3369697 ],\n",
              "       [1.        , 0.12121212, 1.52484848, 1.78545454],\n",
              "       [1.        , 0.16161616, 2.21979798, 2.23393939]])"
            ]
          },
          "metadata": {},
          "execution_count": 99
        }
      ]
    },
    {
      "cell_type": "code",
      "source": [
        "## The theta is inialized and printed\n",
        "## the theta is 4 dimensions because there are 3 variables beign assesed at the same time\n",
        "\n",
        "theta = np.zeros((4))\n",
        "theta"
      ],
      "metadata": {
        "colab": {
          "base_uri": "https://localhost:8080/"
        },
        "id": "GoqMXmm4f7Jz",
        "outputId": "0f301c7c-47dd-448b-ccf2-e6a1f19555c5"
      },
      "execution_count": null,
      "outputs": [
        {
          "output_type": "execute_result",
          "data": {
            "text/plain": [
              "array([0., 0., 0., 0.])"
            ]
          },
          "metadata": {},
          "execution_count": 100
        }
      ]
    },
    {
      "cell_type": "code",
      "source": [
        "## This is the compute cost function\n",
        "## it perfroms all of the said functions to the 4 dimensional arrays inputted\n",
        "\n",
        "def compute_cost(X, y, theta):\n",
        "    predictions = X.dot(theta)\n",
        "    errors = np.subtract(predictions, y)\n",
        "    sqrErrors = np.square(errors)\n",
        "    J = 1 / (2 * m) * np.sum(sqrErrors)\n",
        "    return J"
      ],
      "metadata": {
        "id": "26jBS7YtggEv"
      },
      "execution_count": null,
      "outputs": []
    },
    {
      "cell_type": "code",
      "source": [
        "cost = compute_cost(X, y, theta)\n",
        "cost\n"
      ],
      "metadata": {
        "colab": {
          "base_uri": "https://localhost:8080/"
        },
        "id": "GKClabaOhMtU",
        "outputId": "63c9dc96-c997-4b40-ecdf-7bd990a71dab"
      },
      "execution_count": null,
      "outputs": [
        {
          "output_type": "execute_result",
          "data": {
            "text/plain": [
              "5.524438459196242"
            ]
          },
          "metadata": {},
          "execution_count": 102
        }
      ]
    },
    {
      "cell_type": "code",
      "source": [
        "## the gradient descent updates the theta values according to the learning curve to find the best regression line\n",
        "\n",
        "def gradient_descent(X, y, theta, alpha, iterations):\n",
        "\n",
        "    m = len(y)\n",
        "    cost_history = np.zeros(iterations)\n",
        "\n",
        "    for i in range(iterations):\n",
        "        predictions = X.dot(theta)\n",
        "        errors = np.subtract(predictions, y)\n",
        "        sum_delta = (alpha / m) * X.transpose().dot(errors)\n",
        "        theta -= sum_delta\n",
        "        cost_history[i] = compute_cost(X, y, theta)\n",
        "\n",
        "    return theta, cost_history"
      ],
      "metadata": {
        "id": "tCsDScmthmqs"
      },
      "execution_count": null,
      "outputs": []
    },
    {
      "cell_type": "code",
      "source": [
        "## The theta alpha and and iterations are inialized\n",
        "\n",
        "theta1 = [0., 0., 0., 0.]\n",
        "iterations = 1200\n",
        "alpha = 0.04"
      ],
      "metadata": {
        "id": "yW1ox7G3ivI1"
      },
      "execution_count": null,
      "outputs": []
    },
    {
      "cell_type": "code",
      "source": [
        "## The gradient descent function is run wiht the input values\n",
        "\n",
        "theta, cost_history = gradient_descent(X, y, theta, alpha, iterations)\n",
        "print('Final value of theta =', theta)\n",
        "print('cost_history =', cost_history)"
      ],
      "metadata": {
        "colab": {
          "base_uri": "https://localhost:8080/"
        },
        "id": "QuHwv4cNjHjj",
        "outputId": "561fc1ff-9955-4515-ea91-7e09b8e2af02"
      },
      "execution_count": null,
      "outputs": [
        {
          "output_type": "stream",
          "name": "stdout",
          "text": [
            "Final value of theta = [ 5.27120247 -1.99764979  0.53966299 -0.25930411]\n",
            "cost_history = [4.51455638 4.13668881 3.89647561 ... 0.73856416 0.73856336 0.73856257]\n"
          ]
        }
      ]
    },
    {
      "cell_type": "code",
      "source": [
        "## The gradient Descent function is plotted\n",
        "\n",
        "plt.plot(range(1, iterations + 1), cost_history, color='green')\n",
        "plt.rcParams[\"figure.figsize\"] = (10, 6)\n",
        "plt.grid(True)\n",
        "\n",
        "plt.xlabel('Number of iterations')\n",
        "plt.ylabel('Cost (J)')\n",
        "plt.title('All X vs Y')\n",
        "\n",
        "# Show the plot\n",
        "plt.show()"
      ],
      "metadata": {
        "colab": {
          "base_uri": "https://localhost:8080/",
          "height": 564
        },
        "id": "SePY3z9okCRR",
        "outputId": "5c79b7cf-e397-402f-c989-0a134f435ea8"
      },
      "execution_count": null,
      "outputs": [
        {
          "output_type": "display_data",
          "data": {
            "text/plain": [
              "<Figure size 1000x600 with 1 Axes>"
            ],
            "image/png": "[encoded data removed]"
          },
          "metadata": {}
        }
      ]
    },
    {
      "cell_type": "code",
      "source": [
        "## Using the theta values the predicted y values can be found by multiping and suming them together.\n",
        "\n",
        "predict1 = [1,1,1,1]*theta\n",
        "predict1=sum(predict1)\n",
        "predict2 = [1,2,0,4]*theta\n",
        "predict2=sum(predict2)\n",
        "predict3 = [1,3,2,1]*theta\n",
        "predict3=sum(predict3)\n",
        "print(predict1)\n",
        "print(predict2)\n",
        "print(predict3)"
      ],
      "metadata": {
        "colab": {
          "base_uri": "https://localhost:8080/"
        },
        "id": "DuUUfJchIjzV",
        "outputId": "39de6d24-5558-4ffb-d65d-6ba1c21e5485"
      },
      "execution_count": null,
      "outputs": [
        {
          "output_type": "stream",
          "name": "stdout",
          "text": [
            "3.553911548538418\n",
            "0.2386864291249855\n",
            "0.09827495016138704\n"
          ]
        }
      ]
    }
  ]
}